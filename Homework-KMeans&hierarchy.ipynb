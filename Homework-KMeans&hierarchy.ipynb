{
 "cells": [
  {
   "cell_type": "code",
   "execution_count": 48,
   "metadata": {},
   "outputs": [],
   "source": [
    "# Import pandas for data processing\n",
    "import pandas as pd\n",
    "import matplotlib.pyplot as plt"
   ]
  },
  {
   "cell_type": "code",
   "execution_count": 49,
   "metadata": {},
   "outputs": [
    {
     "data": {
      "text/html": [
       "<div>\n",
       "<style scoped>\n",
       "    .dataframe tbody tr th:only-of-type {\n",
       "        vertical-align: middle;\n",
       "    }\n",
       "\n",
       "    .dataframe tbody tr th {\n",
       "        vertical-align: top;\n",
       "    }\n",
       "\n",
       "    .dataframe thead th {\n",
       "        text-align: right;\n",
       "    }\n",
       "</style>\n",
       "<table border=\"1\" class=\"dataframe\">\n",
       "  <thead>\n",
       "    <tr style=\"text-align: right;\">\n",
       "      <th></th>\n",
       "      <th>marks</th>\n",
       "      <th>shours</th>\n",
       "    </tr>\n",
       "  </thead>\n",
       "  <tbody>\n",
       "    <tr>\n",
       "      <td>0</td>\n",
       "      <td>72</td>\n",
       "      <td>20.0</td>\n",
       "    </tr>\n",
       "    <tr>\n",
       "      <td>1</td>\n",
       "      <td>42</td>\n",
       "      <td>19.0</td>\n",
       "    </tr>\n",
       "    <tr>\n",
       "      <td>2</td>\n",
       "      <td>77</td>\n",
       "      <td>7.0</td>\n",
       "    </tr>\n",
       "    <tr>\n",
       "      <td>3</td>\n",
       "      <td>93</td>\n",
       "      <td>22.0</td>\n",
       "    </tr>\n",
       "    <tr>\n",
       "      <td>4</td>\n",
       "      <td>30</td>\n",
       "      <td>20.0</td>\n",
       "    </tr>\n",
       "  </tbody>\n",
       "</table>\n",
       "</div>"
      ],
      "text/plain": [
       "   marks  shours\n",
       "0     72    20.0\n",
       "1     42    19.0\n",
       "2     77     7.0\n",
       "3     93    22.0\n",
       "4     30    20.0"
      ]
     },
     "execution_count": 49,
     "metadata": {},
     "output_type": "execute_result"
    }
   ],
   "source": [
    "# Read the dataset\n",
    "student = pd.read_csv ('/Users/sabiraliyev/Desktop/Python/Session 5/studentclusters.csv')\n",
    "student.head()"
   ]
  },
  {
   "cell_type": "code",
   "execution_count": 50,
   "metadata": {},
   "outputs": [],
   "source": [
    "x= student.loc[:][['marks', 'shours']].values"
   ]
  },
  {
   "cell_type": "code",
   "execution_count": 51,
   "metadata": {},
   "outputs": [
    {
     "data": {
      "text/plain": [
       "<matplotlib.collections.PathCollection at 0x1a2063bbd0>"
      ]
     },
     "execution_count": 51,
     "metadata": {},
     "output_type": "execute_result"
    },
    {
     "data": {
      "image/png": "[encoded data removed]",
      "text/plain": [
       "<Figure size 432x288 with 1 Axes>"
      ]
     },
     "metadata": {
      "needs_background": "light"
     },
     "output_type": "display_data"
    }
   ],
   "source": [
    "# Visualise the data using Scatter plot\n",
    "plt.scatter(student.marks, student.shours)"
   ]
  },
  {
   "cell_type": "code",
   "execution_count": 52,
   "metadata": {},
   "outputs": [
    {
     "data": {
      "text/plain": [
       "array([[0.71232877, 0.64285714],\n",
       "       [0.30136986, 0.60714286],\n",
       "       [0.78082192, 0.17857143],\n",
       "       [1.        , 0.71428571],\n",
       "       [0.1369863 , 0.64285714],\n",
       "       [0.45205479, 0.46428571],\n",
       "       [0.73972603, 0.21428571],\n",
       "       [0.10958904, 0.78571429],\n",
       "       [0.67123288, 0.85714286],\n",
       "       [0.60273973, 0.17857143],\n",
       "       [0.91780822, 1.        ],\n",
       "       [0.68493151, 0.21428571],\n",
       "       [0.30136986, 0.57142857],\n",
       "       [0.80821918, 0.75      ],\n",
       "       [0.23287671, 0.71428571],\n",
       "       [0.43835616, 0.5       ],\n",
       "       [0.42465753, 0.46428571],\n",
       "       [0.06849315, 0.75      ],\n",
       "       [0.38356164, 0.53571429],\n",
       "       [0.89041096, 0.67857143],\n",
       "       [0.02739726, 0.67857143],\n",
       "       [0.5890411 , 0.19642857],\n",
       "       [0.30136986, 0.53571429],\n",
       "       [0.54794521, 0.46428571],\n",
       "       [0.49315068, 0.57142857],\n",
       "       [0.04109589, 0.10714286],\n",
       "       [0.30136986, 0.5       ],\n",
       "       [0.2739726 , 0.42857143],\n",
       "       [0.10958904, 0.89285714],\n",
       "       [0.36986301, 0.53571429],\n",
       "       [0.06849315, 0.03571429],\n",
       "       [0.15068493, 0.07142857],\n",
       "       [0.5890411 , 0.25      ],\n",
       "       [0.19178082, 0.        ],\n",
       "       [0.39726027, 0.42857143],\n",
       "       [0.04109589, 0.        ],\n",
       "       [0.49315068, 0.5       ],\n",
       "       [0.34246575, 0.42857143],\n",
       "       [0.45205479, 0.5       ],\n",
       "       [0.7260274 , 0.28571429],\n",
       "       [0.02739726, 0.07142857],\n",
       "       [0.43835616, 0.57142857],\n",
       "       [0.60273973, 0.75      ],\n",
       "       [0.30136986, 0.5       ],\n",
       "       [0.84931507, 0.85714286],\n",
       "       [0.2739726 , 0.53571429],\n",
       "       [0.2739726 , 0.5       ],\n",
       "       [0.        , 0.10714286],\n",
       "       [0.83561644, 0.67857143]])"
      ]
     },
     "execution_count": 52,
     "metadata": {},
     "output_type": "execute_result"
    }
   ],
   "source": [
    "# Fit and Transform the data for MinMax normalization\n",
    "from sklearn.preprocessing import MinMaxScaler\n",
    "scaler = MinMaxScaler()\n",
    "scaler.fit_transform(student)"
   ]
  },
  {
   "cell_type": "code",
   "execution_count": 53,
   "metadata": {},
   "outputs": [],
   "source": [
    "# import KMeans for clustering\n",
    "from sklearn.cluster import KMeans"
   ]
  },
  {
   "cell_type": "code",
   "execution_count": 54,
   "metadata": {},
   "outputs": [],
   "source": [
    "# Fit the input data. Create labels and get inertia\n",
    "points= []\n",
    "for i in range (1,10):\n",
    "    kmeans = KMeans(n_clusters = i, init = 'k-means++', random_state = 0)\n",
    "    kmeans.fit(x)\n",
    "    points.append(kmeans.inertia_)"
   ]
  },
  {
   "cell_type": "code",
   "execution_count": 55,
   "metadata": {},
   "outputs": [
    {
     "data": {
      "text/plain": [
       "[<matplotlib.lines.Line2D at 0x1a1f7590d0>]"
      ]
     },
     "execution_count": 55,
     "metadata": {},
     "output_type": "execute_result"
    },
    {
     "data": {
      "image/png": "[encoded data removed]",
      "text/plain": [
       "<Figure size 432x288 with 1 Axes>"
      ]
     },
     "metadata": {
      "needs_background": "light"
     },
     "output_type": "display_data"
    }
   ],
   "source": [
    "# Visualise the clusters\n",
    "plt.plot(range(1,10), points)"
   ]
  },
  {
   "cell_type": "code",
   "execution_count": 71,
   "metadata": {},
   "outputs": [],
   "source": [
    "# Elbow method to determine optimum clusters\n",
    "kmeans = KMeans (n_clusters = 3, init = 'k-means++', random_state = 0)\n",
    "y = kmeans.fit_predict (x)"
   ]
  },
  {
   "cell_type": "code",
   "execution_count": 72,
   "metadata": {},
   "outputs": [
    {
     "data": {
      "text/plain": [
       "array([[74.75      , 16.78125   ],\n",
       "       [47.0952381 , 16.47619048],\n",
       "       [25.91666667, 11.66666667]])"
      ]
     },
     "execution_count": 72,
     "metadata": {},
     "output_type": "execute_result"
    }
   ],
   "source": [
    "kmeans.cluster_centers_"
   ]
  },
  {
   "cell_type": "code",
   "execution_count": 73,
   "metadata": {},
   "outputs": [
    {
     "data": {
      "text/plain": [
       "<matplotlib.collections.PathCollection at 0x1a20b9eb50>"
      ]
     },
     "execution_count": 73,
     "metadata": {},
     "output_type": "execute_result"
    },
    {
     "data": {
      "image/png": "[encoded data removed]",
      "text/plain": [
       "<Figure size 432x288 with 1 Axes>"
      ]
     },
     "metadata": {
      "needs_background": "light"
     },
     "output_type": "display_data"
    }
   ],
   "source": [
    "plt.scatter (x[y==0,0], x[y==0,1], c= 'blue')\n",
    "plt.scatter (x[y==1,0], x[y==1,1], c= 'yellow')\n",
    "plt.scatter (x[y==2,0], x[y==2,1], c= 'purple')\n",
    "plt.scatter (kmeans.cluster_centers_[:,0],kmeans.cluster_centers_[:,1], c='red' )"
   ]
  },
  {
   "cell_type": "code",
   "execution_count": 58,
   "metadata": {},
   "outputs": [],
   "source": [
    "import scipy.cluster.hierarchy as sch\n",
    "from scipy.cluster.hierarchy import linkage, dendrogram\n",
    "from sklearn.cluster import AgglomerativeClustering"
   ]
  },
  {
   "cell_type": "code",
   "execution_count": 60,
   "metadata": {},
   "outputs": [
    {
     "data": {
      "image/png": "[encoded data removed]",
      "text/plain": [
       "<Figure size 432x288 with 1 Axes>"
      ]
     },
     "metadata": {
      "needs_background": "light"
     },
     "output_type": "display_data"
    }
   ],
   "source": [
    "dendro = dendrogram(linkage(x,method = 'ward'))"
   ]
  },
  {
   "cell_type": "code",
   "execution_count": 83,
   "metadata": {},
   "outputs": [],
   "source": [
    "hierarchy = AgglomerativeClustering(n_clusters = 2, affinity = 'euclidean', linkage = 'ward' )"
   ]
  },
  {
   "cell_type": "code",
   "execution_count": 84,
   "metadata": {},
   "outputs": [],
   "source": [
    "y_h = hierarchy.fit_predict(x)"
   ]
  },
  {
   "cell_type": "code",
   "execution_count": 85,
   "metadata": {},
   "outputs": [
    {
     "data": {
      "text/plain": [
       "<matplotlib.collections.PathCollection at 0x1a20f6ce50>"
      ]
     },
     "execution_count": 85,
     "metadata": {},
     "output_type": "execute_result"
    },
    {
     "data": {
      "image/png": "[encoded data removed]",
      "text/plain": [
       "<Figure size 432x288 with 1 Axes>"
      ]
     },
     "metadata": {
      "needs_background": "light"
     },
     "output_type": "display_data"
    }
   ],
   "source": [
    "plt.scatter(x[y_h==0,0], x[y_h==0,1], c='blue')\n",
    "plt.scatter(x[y_h==1,0], x[y_h==1,1], c='purple')\n"
   ]
  },
  {
   "cell_type": "code",
   "execution_count": null,
   "metadata": {},
   "outputs": [],
   "source": []
  }
 ],
 "metadata": {
  "kernelspec": {
   "display_name": "Python 3",
   "language": "python",
   "name": "python3"
  },
  "language_info": {
   "codemirror_mode": {
    "name": "ipython",
    "version": 3
   },
   "file_extension": ".py",
   "mimetype": "text/x-python",
   "name": "python",
   "nbconvert_exporter": "python",
   "pygments_lexer": "ipython3",
   "version": "3.7.4"
  }
 },
 "nbformat": 4,
 "nbformat_minor": 4
}
